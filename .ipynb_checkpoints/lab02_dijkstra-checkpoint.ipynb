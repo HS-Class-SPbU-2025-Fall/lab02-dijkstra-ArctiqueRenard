{
 "cells": [
  {
   "attachments": {},
   "cell_type": "markdown",
   "metadata": {},
   "source": [
    "# Path Planning On a Grid :: Revisiting Dijkstra aka Dijkstra with the SearchNodes"
   ]
  },
  {
   "attachments": {},
   "cell_type": "markdown",
   "metadata": {},
   "source": [
    "<center><img src=\"./img/1.png\"/></center>"
   ]
  },
  {
   "attachments": {},
   "cell_type": "markdown",
   "metadata": {},
   "source": [
    "In this lab, we will consider the problem of finding the shortest path on a graph with a special structure, widely used in robotics and computer games — a grid. The grid consists of both free and blocked cells, and an agent can move from one free cell to another. The connectivity of the grid may vary; for example, a grid might be 4-connected when only cardinal moves (N, E, W, S) are allowed, or 8-connected when diagonal moves are allowed as well.\n",
    "\n",
    "**In this lab, we assume that the grid is 4-connected**, meaning that only moves into the cardinal directions (N, E, W, S) are allowed. The cost of each move between two neighboring cells, represented as $v$ and $v'$, is uniform, with $cost(v, v') = 1$.\n",
    "\n",
    "We will explore the seminal `Dijkstra` algorithm for finding the shortest path on a grid. However, our focus is on implementing this algorithm as a \"heuristic search without heuristic,\" utilizing the distinct `SearchNode` structure, along with concepts like `Open` and `Closed`.\n",
    "\n",
    "*The more advanced algorithms we will be discussing in the next labs will build upon much of this implementation. Therefore, it's crucial to ensure that your code is both correct and efficient.*\n",
    "\n",
    "Your task is to complete the missing code fragments as per the provided prompts and execute every cell in this notebook. All tests should pass successfully.\n",
    "\n",
    "Let's get started!\n"
   ]
  },
  {
   "attachments": {},
   "cell_type": "markdown",
   "metadata": {},
   "source": [
    "<center><img src=\"./img/2.png\"/></center>"
   ]
  },
  {
   "cell_type": "code",
   "execution_count": 1,
   "metadata": {
    "tags": []
   },
   "outputs": [],
   "source": [
    "import random\n",
    "import traceback\n",
    "from heapq import heappop, heappush\n",
    "from pathlib import Path\n",
    "from textwrap import dedent\n",
    "from typing import Callable, Dict, Iterable, List, Optional, Tuple, Type, Union\n",
    "\n",
    "import matplotlib.pyplot as plt\n",
    "import numpy as np\n",
    "import numpy.typing as npt\n",
    "from PIL import Image, ImageDraw\n",
    "\n",
    "%matplotlib inline"
   ]
  },
  {
   "attachments": {},
   "cell_type": "markdown",
   "metadata": {},
   "source": [
    "## Grid map representation "
   ]
  },
  {
   "cell_type": "code",
   "execution_count": 2,
   "metadata": {
    "tags": []
   },
   "outputs": [
    {
     "data": {
      "text/plain": [
       "\u001b[0;31mInit signature:\u001b[0m \u001b[0mMap\u001b[0m\u001b[0;34m(\u001b[0m\u001b[0mcells\u001b[0m\u001b[0;34m:\u001b[0m \u001b[0mnumpy\u001b[0m\u001b[0;34m.\u001b[0m\u001b[0mndarray\u001b[0m\u001b[0;34m[\u001b[0m\u001b[0mtuple\u001b[0m\u001b[0;34m[\u001b[0m\u001b[0mint\u001b[0m\u001b[0;34m,\u001b[0m \u001b[0;34m...\u001b[0m\u001b[0;34m]\u001b[0m\u001b[0;34m,\u001b[0m \u001b[0mnumpy\u001b[0m\u001b[0;34m.\u001b[0m\u001b[0mdtype\u001b[0m\u001b[0;34m[\u001b[0m\u001b[0;34m+\u001b[0m\u001b[0m_ScalarType_co\u001b[0m\u001b[0;34m]\u001b[0m\u001b[0;34m]\u001b[0m\u001b[0;34m)\u001b[0m\u001b[0;34m\u001b[0m\u001b[0;34m\u001b[0m\u001b[0m\n",
       "\u001b[0;31mDocstring:\u001b[0m     \n",
       "Represents a square grid environment for our moving agent.\n",
       "\n",
       "Attributes\n",
       "----------\n",
       "_width : int\n",
       "    The number of columns in the grid.\n",
       "\n",
       "_height : int\n",
       "    The number of rows in the grid.\n",
       "\n",
       "_cells : np.ndarray\n",
       "    A binary matrix representing the grid where 0 represents a traversable cell, and 1 represents a blocked cell.\n",
       "\u001b[0;31mInit docstring:\u001b[0m\n",
       "Initializes the map using a 2D array of cells.\n",
       "\n",
       "Parameters\n",
       "----------\n",
       "cells : np.ndarray\n",
       "    A binary matrix representing the grid. 0 indicates a traversable cell, and 1 indicates a blocked cell.\n",
       "\u001b[0;31mFile:\u001b[0m           ~/HeuristicSearch/lab02-dijkstra-ArctiqueRenard/utils/Map.py\n",
       "\u001b[0;31mType:\u001b[0m           type\n",
       "\u001b[0;31mSubclasses:\u001b[0m     "
      ]
     },
     "metadata": {},
     "output_type": "display_data"
    }
   ],
   "source": [
    "from utils.Map import Map\n",
    "from utils.utils import convert_string_to_cells\n",
    "Map?"
   ]
  },
  {
   "cell_type": "code",
   "execution_count": 3,
   "metadata": {},
   "outputs": [
    {
     "data": {
      "text/plain": [
       "\u001b[0;31mSignature:\u001b[0m \u001b[0mMap\u001b[0m\u001b[0;34m.\u001b[0m\u001b[0mget_neighbors\u001b[0m\u001b[0;34m(\u001b[0m\u001b[0mself\u001b[0m\u001b[0;34m,\u001b[0m \u001b[0mi\u001b[0m\u001b[0;34m:\u001b[0m \u001b[0mint\u001b[0m\u001b[0;34m,\u001b[0m \u001b[0mj\u001b[0m\u001b[0;34m:\u001b[0m \u001b[0mint\u001b[0m\u001b[0;34m)\u001b[0m \u001b[0;34m->\u001b[0m \u001b[0mList\u001b[0m\u001b[0;34m[\u001b[0m\u001b[0mTuple\u001b[0m\u001b[0;34m[\u001b[0m\u001b[0mint\u001b[0m\u001b[0;34m,\u001b[0m \u001b[0mint\u001b[0m\u001b[0;34m]\u001b[0m\u001b[0;34m]\u001b[0m\u001b[0;34m\u001b[0m\u001b[0;34m\u001b[0m\u001b[0m\n",
       "\u001b[0;31mDocstring:\u001b[0m\n",
       "Gets a list of neighboring cells as (i, j) tuples.\n",
       "Assumes that the grid is 4-connected, allowing moves only in cardinal directions.\n",
       "\n",
       "Parameters\n",
       "----------\n",
       "i : int\n",
       "    Row number of the cell in the grid.\n",
       "j : int\n",
       "    Column number of the cell in the grid.\n",
       "\n",
       "Returns\n",
       "----------\n",
       "neighbors : List[Tuple[int, int]]\n",
       "    List of neighboring cells.\n",
       "\u001b[0;31mFile:\u001b[0m      ~/HeuristicSearch/lab02-dijkstra-ArctiqueRenard/utils/Map.py\n",
       "\u001b[0;31mType:\u001b[0m      function"
      ]
     },
     "metadata": {},
     "output_type": "display_data"
    }
   ],
   "source": [
    "dir(Map)\n",
    "Map.get_neighbors?"
   ]
  },
  {
   "cell_type": "code",
   "execution_count": 4,
   "metadata": {},
   "outputs": [
    {
     "data": {
      "text/plain": [
       "\u001b[0;31mSignature:\u001b[0m \u001b[0mMap\u001b[0m\u001b[0;34m.\u001b[0m\u001b[0mtraversable\u001b[0m\u001b[0;34m(\u001b[0m\u001b[0mself\u001b[0m\u001b[0;34m,\u001b[0m \u001b[0mi\u001b[0m\u001b[0;34m:\u001b[0m \u001b[0mint\u001b[0m\u001b[0;34m,\u001b[0m \u001b[0mj\u001b[0m\u001b[0;34m:\u001b[0m \u001b[0mint\u001b[0m\u001b[0;34m)\u001b[0m \u001b[0;34m->\u001b[0m \u001b[0mbool\u001b[0m\u001b[0;34m\u001b[0m\u001b[0;34m\u001b[0m\u001b[0m\n",
       "\u001b[0;31mDocstring:\u001b[0m\n",
       "Checks if the cell (i, j) is not an obstacle.\n",
       "\n",
       "Parameters\n",
       "----------\n",
       "i : int\n",
       "    Row number of the cell in the grid.\n",
       "j : int\n",
       "    Column number of the cell in the grid.\n",
       "\n",
       "Returns\n",
       "----------\n",
       "bool\n",
       "    True if the cell is traversable, False if it's blocked.\n",
       "\u001b[0;31mFile:\u001b[0m      ~/HeuristicSearch/lab02-dijkstra-ArctiqueRenard/utils/Map.py\n",
       "\u001b[0;31mType:\u001b[0m      function"
      ]
     },
     "metadata": {},
     "output_type": "display_data"
    }
   ],
   "source": [
    "Map.traversable?"
   ]
  },
  {
   "attachments": {},
   "cell_type": "markdown",
   "metadata": {},
   "source": [
    "Computes the cost of a transition from cell `(i1, j1)` to cell `(i2, j2)`. In the case of a 4-connected grid, the cost is always equal to 1. Consequently, the cost of each path is an integer.\n",
    "\n",
    "However, please note that if the grid's connectivity exceeds 4, the cost of a transition may vary and may become fractional or even arbitrary (e.g., $\\sqrt{2}$ for diagonal moves).\n",
    "\n",
    "Recall that in this lab, we assume a 4-connected grid, meaning that only cardinal moves (up, down, left, right) are allowed, and as a result, all costs are integers."
   ]
  },
  {
   "cell_type": "code",
   "execution_count": 5,
   "metadata": {
    "tags": []
   },
   "outputs": [
    {
     "data": {
      "text/plain": [
       "\u001b[0;31mSignature:\u001b[0m \u001b[0mcompute_cost\u001b[0m\u001b[0;34m(\u001b[0m\u001b[0mi1\u001b[0m\u001b[0;34m:\u001b[0m \u001b[0mint\u001b[0m\u001b[0;34m,\u001b[0m \u001b[0mj1\u001b[0m\u001b[0;34m:\u001b[0m \u001b[0mint\u001b[0m\u001b[0;34m,\u001b[0m \u001b[0mi2\u001b[0m\u001b[0;34m:\u001b[0m \u001b[0mint\u001b[0m\u001b[0;34m,\u001b[0m \u001b[0mj2\u001b[0m\u001b[0;34m:\u001b[0m \u001b[0mint\u001b[0m\u001b[0;34m)\u001b[0m \u001b[0;34m->\u001b[0m \u001b[0mUnion\u001b[0m\u001b[0;34m[\u001b[0m\u001b[0mint\u001b[0m\u001b[0;34m,\u001b[0m \u001b[0mfloat\u001b[0m\u001b[0;34m]\u001b[0m\u001b[0;34m\u001b[0m\u001b[0;34m\u001b[0m\u001b[0m\n",
       "\u001b[0;31mDocstring:\u001b[0m\n",
       "Computes the cost of simple moves between cells (i1, j1) and (i2, j2).\n",
       "\n",
       "Parameters\n",
       "----------\n",
       "i1 : int\n",
       "    Row number of the first cell in the grid.\n",
       "j1 : int\n",
       "    Column number of the first cell in the grid.\n",
       "i2 : int\n",
       "    Row number of the second cell in the grid.\n",
       "j2 : int\n",
       "    Column number of the second cell in the grid.\n",
       "\n",
       "Returns\n",
       "----------\n",
       "int | float\n",
       "    Cost of the move between cells.\n",
       "\n",
       "Raises\n",
       "----------\n",
       "ValueError\n",
       "    If trying to compute the cost of a non-supported move (only cardinal moves are supported).\n",
       "\u001b[0;31mFile:\u001b[0m      ~/HeuristicSearch/lab02-dijkstra-ArctiqueRenard/utils/utils.py\n",
       "\u001b[0;31mType:\u001b[0m      function"
      ]
     },
     "metadata": {},
     "output_type": "display_data"
    }
   ],
   "source": [
    "from utils.utils import compute_cost\n",
    "compute_cost?"
   ]
  },
  {
   "attachments": {},
   "cell_type": "markdown",
   "metadata": {},
   "source": [
    "## Search Node\n",
    "\n",
    "A Search node is a fundamental concept of a search algorithm. It encapsulates data about the state of the problem (e.g., the position of a robot on a grid) and the information needed to construct a search tree, including g-value, backpointer to its predecessor etc.\n"
   ]
  },
  {
   "cell_type": "code",
   "execution_count": 6,
   "metadata": {
    "tags": []
   },
   "outputs": [
    {
     "data": {
      "text/plain": [
       "\u001b[0;31mInit signature:\u001b[0m \u001b[0mNode\u001b[0m\u001b[0;34m(\u001b[0m\u001b[0mi\u001b[0m\u001b[0;34m:\u001b[0m \u001b[0mint\u001b[0m\u001b[0;34m,\u001b[0m \u001b[0mj\u001b[0m\u001b[0;34m:\u001b[0m \u001b[0mint\u001b[0m\u001b[0;34m,\u001b[0m \u001b[0mg\u001b[0m\u001b[0;34m:\u001b[0m \u001b[0mUnion\u001b[0m\u001b[0;34m[\u001b[0m\u001b[0mfloat\u001b[0m\u001b[0;34m,\u001b[0m \u001b[0mint\u001b[0m\u001b[0;34m]\u001b[0m \u001b[0;34m=\u001b[0m \u001b[0;36m0\u001b[0m\u001b[0;34m,\u001b[0m \u001b[0mparent\u001b[0m\u001b[0;34m:\u001b[0m \u001b[0;34m'Node'\u001b[0m \u001b[0;34m=\u001b[0m \u001b[0;32mNone\u001b[0m\u001b[0;34m)\u001b[0m\u001b[0;34m\u001b[0m\u001b[0;34m\u001b[0m\u001b[0m\n",
       "\u001b[0;31mDocstring:\u001b[0m     \n",
       "Represents a search node.\n",
       "\n",
       "Attributes\n",
       "----------\n",
       "i : int\n",
       "    Row coordinate of the corresponding grid element.\n",
       "j : int\n",
       "    Column coordinate of the corresponding grid element.\n",
       "g : float | int\n",
       "    g-value of the node (cost of the path from the start node to the current node).\n",
       "parent : Node\n",
       "    Pointer to the parent node.\n",
       "\u001b[0;31mInit docstring:\u001b[0m\n",
       "Initializes a search node.\n",
       "\n",
       "Parameters\n",
       "----------\n",
       "i : int\n",
       "    Row coordinate of the corresponding grid element.\n",
       "j : int\n",
       "    Column coordinate of the corresponding grid element.\n",
       "g : float | int\n",
       "    g-value of the node (cost of the path from the start node to the current node).\n",
       "parent : Node\n",
       "    Pointer to the parent node.\n",
       "\u001b[0;31mFile:\u001b[0m           ~/HeuristicSearch/lab02-dijkstra-ArctiqueRenard/utils/Node.py\n",
       "\u001b[0;31mType:\u001b[0m           type\n",
       "\u001b[0;31mSubclasses:\u001b[0m     "
      ]
     },
     "metadata": {},
     "output_type": "display_data"
    }
   ],
   "source": [
    "from utils.Node import Node\n",
    "Node?"
   ]
  },
  {
   "cell_type": "code",
   "execution_count": 7,
   "metadata": {},
   "outputs": [
    {
     "data": {
      "text/plain": [
       "['__class__',\n",
       " '__delattr__',\n",
       " '__dict__',\n",
       " '__dir__',\n",
       " '__doc__',\n",
       " '__eq__',\n",
       " '__firstlineno__',\n",
       " '__format__',\n",
       " '__ge__',\n",
       " '__getattribute__',\n",
       " '__getstate__',\n",
       " '__gt__',\n",
       " '__hash__',\n",
       " '__init__',\n",
       " '__init_subclass__',\n",
       " '__le__',\n",
       " '__lt__',\n",
       " '__module__',\n",
       " '__ne__',\n",
       " '__new__',\n",
       " '__reduce__',\n",
       " '__reduce_ex__',\n",
       " '__repr__',\n",
       " '__setattr__',\n",
       " '__sizeof__',\n",
       " '__static_attributes__',\n",
       " '__str__',\n",
       " '__subclasshook__',\n",
       " '__weakref__']"
      ]
     },
     "execution_count": 7,
     "metadata": {},
     "output_type": "execute_result"
    }
   ],
   "source": [
    "dir(Node)"
   ]
  },
  {
   "attachments": {},
   "cell_type": "markdown",
   "metadata": {},
   "source": [
    "## Visualization"
   ]
  },
  {
   "cell_type": "code",
   "execution_count": 8,
   "metadata": {
    "tags": []
   },
   "outputs": [],
   "source": [
    "from utils.utils import draw"
   ]
  },
  {
   "attachments": {},
   "cell_type": "markdown",
   "metadata": {},
   "source": [
    "Example of the visualization"
   ]
  },
  {
   "cell_type": "code",
   "execution_count": 9,
   "metadata": {
    "tags": []
   },
   "outputs": [
    {
     "data": {
      "image/png": "[encoded data removed]",
      "text/plain": [
       "<Figure size 960x720 with 1 Axes>"
      ]
     },
     "metadata": {},
     "output_type": "display_data"
    }
   ],
   "source": [
    "height = 15\n",
    "width = 30\n",
    "map_str = \"\"\"\n",
    ". . . . . . . . . . . . . . . . . . . . . # # . . . . . . .  \n",
    ". . . . . . . . . . . . . . . . . . . . . # # . . . . . . . \n",
    ". . . . . . . . . . . . . . . . . . . . . # # . . . . . . . \n",
    ". . . # # . . . . . . . . . . . . . . . . # # . . . . . . . \n",
    ". . . # # . . . . . . . . # # . . . . . . # # . . . . . . . \n",
    ". . . # # . . . . . . . . # # . . . . . . # # # # # . . . . \n",
    ". . . # # . . . . . . . . # # . . . . . . # # # # # . . . . \n",
    ". . . # # . . . . . . . . # # . . . . . . . . . . . . . . . \n",
    ". . . # # . . . . . . . . # # . . . . . . . . . . . . . . . \n",
    ". . . # # . . . . . . . . # # . . . . . . . . . . . . . . . \n",
    ". . . # # . . . . . . . . # # . . . . . . . . . . . . . . . \n",
    ". . . # # . . . . . . . . # # . . . . . . . . . . . . . . . \n",
    ". . . . . . . . . . . . . # # . . . . . . . . . . . . . . . \n",
    ". . . . . . . . . . . . . # # . . . . . . . . . . . . . . .\n",
    ". . . . . . . . . . . . . # # . . . . . . . . . . . . . . .\n",
    "\"\"\"\n",
    "cells = convert_string_to_cells(map_str)\n",
    "\n",
    "test_map = Map(cells)\n",
    "start = Node(1, 1)\n",
    "goal = Node(13, 28)\n",
    "draw(test_map, start, goal)"
   ]
  },
  {
   "attachments": {},
   "cell_type": "markdown",
   "metadata": {},
   "source": [
    "## Implementing the Search Tree (i.e., OPEN and CLOSED)\n",
    "An efficient implementation of the search tree (`OPEN` and `CLOSED`) is crucial for any search algorithm. Below, you'll find a basic implementation that uses lists to store the elements of `OPEN` and `CLOSED`. This method isn't very efficient, and you are tasked with creating your own implementations.\n",
    "\n",
    "It's a good idea to start by modifying `CLOSED` since it's relatively straightforward. After making changes, ensure everything works OK—i.e., the search algorithms run faster and produce the right results. Following that, you can proceed to modify `OPEN`, which might be more challenging than it initially appears.\n",
    "\n",
    "PS: Feel free to add additional fields, methods, method arguments, etc., to your implementations.\n"
   ]
  },
  {
   "cell_type": "code",
   "execution_count": 10,
   "metadata": {},
   "outputs": [],
   "source": [
    "class SearchTreeL:\n",
    "    \"\"\"\n",
    "    SearchTree that uses Lists for OPEN and CLOSED (NOT EFFICIENT).\n",
    "    \"\"\"\n",
    "\n",
    "    def __init__(self):\n",
    "        self._open = []  # List for the OPEN nodes\n",
    "        self._closed = []  # List for the expanded nodes, i.e. CLOSED\n",
    "        # No duplicates are present in a list-based implementation, so this always equals 0\n",
    "        self._enc_open_duplicates = 0\n",
    "\n",
    "    def __len__(self) -> int:\n",
    "        \"\"\"\n",
    "        Returns the size of the search tree. Typically, this is used to know\n",
    "        the size of the search tree at the last iteration of the search,\n",
    "        to assess the memory footprint of the algorithm.\n",
    "        \"\"\"\n",
    "        return len(self._open) + len(self._closed)\n",
    "\n",
    "    def open_is_empty(self) -> bool:\n",
    "        \"\"\"\n",
    "        Indicates whether OPEN is exhausted or not.\n",
    "        If it is, the main search loop should be interrupted.\n",
    "        \"\"\"\n",
    "        return len(self._open) == 0\n",
    "\n",
    "    def add_to_open(self, item: Node):\n",
    "        \"\"\"\n",
    "        Adds a (previously not expanded) node to the search tree (i.e., to OPEN).\n",
    "        It can either be a totally new node (one we haven't encountered before)\n",
    "        or a duplicate of a node that currently resides in OPEN.\n",
    "        In this implementation, duplicates are detected upon addition. So,\n",
    "        if the newly added node corresponds to the same state (has the same coordinates),\n",
    "        we check if the g-value of the new node is better (lower) than the old one.\n",
    "        If it is, we replace the old node with the new one (since it's better).\n",
    "        Otherwise, we discard the new node.\n",
    "        \"\"\"\n",
    "        for node in self._closed:\n",
    "            if node.i == item.i and node.j == item.j:\n",
    "                return \n",
    "            \n",
    "        for k in range (len(self._open)):\n",
    "            if self._open[k].i == item.i and self._open[k].j == item.j:\n",
    "                if self._open[k].g > item.g:\n",
    "                    self._open[k] = item     \n",
    "                return \n",
    "\n",
    "        self._open.append(item)\n",
    "        return\n",
    "\n",
    "    def get_best_node_from_open(self) -> Node:\n",
    "        \"\"\"\n",
    "        Extracts the best node (i.e., the one with the minimal key\n",
    "        = min f-value = min g-value (for Dijkstra)) from OPEN.\n",
    "        This node will be further expanded in the main search loop.\n",
    "        \"\"\"\n",
    "        if self.open_is_empty(): \n",
    "            return None\n",
    "            \n",
    "        best_node_index = 0\n",
    "        \n",
    "        for i in range (1, len(self._open)):\n",
    "            if self._open[i].g < self._open[best_node_index].g:\n",
    "                best_node_index = i\n",
    "                \n",
    "        best_node = self._open.pop(best_node_index)\n",
    "        return best_node\n",
    "\n",
    "    def add_to_closed(self, item: Node):\n",
    "        self._closed.append(item)\n",
    "        return\n",
    "\n",
    "    def was_expanded(self, item: Node) -> bool:\n",
    "        for node in self._closed:\n",
    "            if node.i == item.i and node.j == item.j:\n",
    "                return True\n",
    "                \n",
    "        return False\n",
    "\n",
    "    @property\n",
    "    def opened(self):\n",
    "        return self._open\n",
    "\n",
    "    @property\n",
    "    def expanded(self):\n",
    "        return self._closed\n",
    "\n",
    "    @property\n",
    "    def number_of_open_duplicates(self):\n",
    "        return self._enc_open_duplicates"
   ]
  },
  {
   "attachments": {},
   "cell_type": "markdown",
   "metadata": {},
   "source": [
    "Next, you need to implement the search tree with the following features:\n",
    "- A dictionary for CLOSED\n",
    "- A priority queue for OPEN\n",
    "- Lazy duplicate detection in OPEN\n",
    "\n",
    "The last point implies that every time you generate a node that has not been previously expanded, you should simply add it to OPEN (i.e., add it to the priority queue where priority is determined by the `Node.__lt__` comparator). This approach may frequently lead to situations where the same node, possibly with a different $g$-value, is already in OPEN. To handle this, every time you extract the best node from OPEN, check if the node has been previously expanded. If the node has been expanded before, the current node is considered a 'bad duplicate' (a duplicate with a higher $g$-value) and should be discarded.\n",
    "\n",
    "To monitor the number of OPEN duplicates encountered during the search, use `_enc_open_duplicates`. Increment this value by 1 every time you discard a 'bad duplicate'.\n",
    "\n",
    "PS: Remember to handle the situation where only 'bad duplicates' remain in OPEN correctly.\n"
   ]
  },
  {
   "cell_type": "code",
   "execution_count": 11,
   "metadata": {},
   "outputs": [],
   "source": [
    "class SearchTreePQD:\n",
    "    \"\"\"\n",
    "    SearchTree using a priority queue for OPEN and a dictionary for CLOSED.\n",
    "    \"\"\"\n",
    "\n",
    "    def __init__(self):\n",
    "        self._open = []  # Priority queue for nodes in OPEN\n",
    "        self._closed = dict()  # Dictionary for nodes in CLOSED (expanded nodes)\n",
    "        self._enc_open_duplicates = 0  # Number of duplicates encountered in OPEN\n",
    "\n",
    "    def __len__(self) -> int:\n",
    "        \"\"\"\n",
    "        Returns the size of the search tree. Useful for assessing the memory\n",
    "        footprint of the algorithm, especially at the final iteration.\n",
    "        \"\"\"\n",
    "        return len(self._open) + len(self._closed)\n",
    "\n",
    "    def open_is_empty(self) -> bool:\n",
    "        \"\"\"\n",
    "        Checks if OPEN is empty.\n",
    "        If true, the main search loop should be interrupted.\n",
    "        \"\"\"\n",
    "        return len(self._open) == 0\n",
    "\n",
    "    def add_to_open(self, item: Node):\n",
    "        \"\"\"\n",
    "        Adds a node to the search tree, specifically to OPEN. This node is either\n",
    "        entirely new or a duplicate of an existing node in OPEN.\n",
    "        This implementation detects duplicates lazily; thus, nodes are added to\n",
    "        OPEN without initial duplicate checks.\n",
    "        \"\"\"\n",
    "        heappush(self._open, (item.g, item))\n",
    "        return \n",
    "\n",
    "    def get_best_node_from_open(self) -> Optional[Node]:\n",
    "        \"\"\"\n",
    "        Retrieves the best node from OPEN, defined by the minimum key.\n",
    "        This node will then be expanded in the main search loop.\n",
    "\n",
    "        Duplicates are managed here. If a node has been expanded previously\n",
    "        (and is in CLOSED), it's skipped and the next best node is considered.\n",
    "\n",
    "        Returns None if OPEN is empty.\n",
    "        \"\"\"\n",
    "        while self._open: \n",
    "            g, best_node = heappop(self._open)\n",
    "            if self.was_expanded(best_node): \n",
    "                self._enc_open_duplicates += 1\n",
    "            else: return best_node\n",
    "                \n",
    "        return None\n",
    "\n",
    "    def add_to_closed(self, item: Node):\n",
    "        \"\"\"\n",
    "        Adds a node to the CLOSED dictionary.\n",
    "        \"\"\"\n",
    "        key = (item.i, item.j)\n",
    "        self._closed[key] = item\n",
    "        return\n",
    "\n",
    "    def was_expanded(self, item: Node) -> bool:\n",
    "        \"\"\"\n",
    "        Checks if a node has been previously expanded.\n",
    "        \"\"\"\n",
    "        if (item.i, item.j) in self._closed:\n",
    "            return True\n",
    "            \n",
    "        return False\n",
    "\n",
    "    @property\n",
    "    def opened(self):\n",
    "        return [item for (g, item) in self._open]\n",
    "\n",
    "    @property\n",
    "    def expanded(self):\n",
    "        return self._closed.values()\n",
    "\n",
    "    @property\n",
    "    def number_of_open_duplicates(self):\n",
    "        return self._enc_open_duplicates"
   ]
  },
  {
   "attachments": {},
   "cell_type": "markdown",
   "metadata": {},
   "source": [
    "## Validating the results\n"
   ]
  },
  {
   "cell_type": "code",
   "execution_count": 12,
   "metadata": {},
   "outputs": [],
   "source": [
    "from utils.utils import read_task_from_file, make_path"
   ]
  },
  {
   "attachments": {},
   "cell_type": "markdown",
   "metadata": {},
   "source": [
    "When you finish implementing search algorithms, you'll naturally want to test them. The following functions will help you in doing just that.\n",
    "\n",
    "`simple_test` runs the pathfinding algorithm on a single, straightforward instance, while `massive_test` executes it on a series of more involved instances. Both tests operate under the assumption that the search function follows the pattern below:\n",
    "\n",
    "```\n",
    "search(task_map, start.i, start.j, goal.i, goal.j, *optional arguments*) -> (path_found, last_state, steps, search_tree_size, open, closed)\n",
    "```\n",
    "\n",
    "These automated tests anticipate that the search function, which is passed as an input, adheres to the following structure:\n",
    "\n",
    "- `task_map` is the grid\n",
    "- `start.i, start.j` are the  $(i, j)$ coordinates of the starting cell\n",
    "- `goal.i, goal.j` are the $(i, j)$ coordinates of the goal cell\n",
    "- `*optional arguments*` represent additional parameters of the search function, passed with *args. For instance, the heuristic function.\n",
    "- `path_found` is `True` if a path was found and `False` otherwise\n",
    "- `last_state` denotes the last state of the path. It returns `None` if a path was not found\n",
    "- `steps` provides the number of search steps taken\n",
    "- `search_tree_size` represents the number of nodes that make up the search tree at the final iteration of the algorithm, which equates to the size of the resultant search tree.\n",
    "- `open` is an iterable collection of the nodes that form the search frontier (OPEN nodes)\n",
    "- `closed` is an iterable collection of the expanded nodes (CLOSED)\n"
   ]
  },
  {
   "attachments": {},
   "cell_type": "markdown",
   "metadata": {},
   "source": [
    "## Dijkstra algorithm\n",
    "\n",
    "The input is:\n",
    "- map representation\n",
    "- start/goal cells\n",
    "- a reference to the implementation of the SearchTree\n",
    "\n",
    "The output is:\n",
    "- path found flag (`true` or `false`)\n",
    "- last node of the path (so one can unwind it using the parent-pointers and get the full path)\n",
    "- the number of steps (iterations of the main loop)\n",
    "- the number of nodes that compose the search tree at the final iteration of the algorithm (=the size of the resultant search tree)\n",
    "- OPEN and CLOSED (as iterable collections of nodes) for further visualization purposes\n",
    "\n",
    "\n",
    "PS: You might also want to display, at the final iteration, the number of OPEN duplicates encountered during the search, as shown below:\n",
    "\n",
    "```print(\"During the search, the following number of OPEN dublicates was encountered: \", dst.number_of_open_duplicates) ```\n"
   ]
  },
  {
   "cell_type": "code",
   "execution_count": 13,
   "metadata": {},
   "outputs": [],
   "source": [
    "def dijkstra(\n",
    "    task_map: Map,\n",
    "    start_i: int,\n",
    "    start_j: int,\n",
    "    goal_i: int,\n",
    "    goal_j: int,\n",
    "    search_tree: Union[Type[SearchTreeL], Type[SearchTreePQD]],\n",
    ") -> Tuple[bool, Optional[Node], int, int, Optional[Iterable[Node]], Optional[Iterable[Node]]]:\n",
    "    \"\"\"\n",
    "    Implementation of Dijkstra algorithm.\n",
    "    \"\"\"\n",
    "\n",
    "    dst = search_tree()  # Dijkstra's search tree\n",
    "    steps = 0\n",
    "    start_node = Node(start_i, start_j, g=0)\n",
    "    dst.add_to_open(start_node)\n",
    "    current_node = None\n",
    "\n",
    "    while not dst.open_is_empty():\n",
    "        current_node = dst.get_best_node_from_open()\n",
    "        if current_node is None: \n",
    "            break\n",
    "\n",
    "        steps += 1\n",
    "        \n",
    "        if current_node.i == goal_i and current_node.j == goal_j:\n",
    "            print(\"During the search, the following number of OPEN dublicates was encountered: \", \\\n",
    "                  dst.number_of_open_duplicates)\n",
    "            return True, current_node, steps, len(dst), dst.opened, dst.expanded\n",
    "\n",
    "        dst.add_to_closed(current_node)\n",
    "        neighbors = task_map.get_neighbors(current_node.i, current_node.j)\n",
    "        for i, j in neighbors: \n",
    "            if task_map.traversable(i, j):\n",
    "                g_new = current_node.g + 1\n",
    "                neighbor_node = Node(i, j, g=g_new, parent=current_node)\n",
    "                dst.add_to_open(neighbor_node)\n",
    "        \n",
    "\n",
    "    return False, None, steps, len(dst), None, dst.expanded"
   ]
  },
  {
   "attachments": {},
   "cell_type": "markdown",
   "metadata": {},
   "source": [
    "## Now let's test the implementation.\n",
    "\n",
    "Begin by executing the algorithm using the initial list-based search-tree implementation. Ensure that you receive the expected results on the given simple tests.\n"
   ]
  },
  {
   "cell_type": "code",
   "execution_count": 14,
   "metadata": {},
   "outputs": [],
   "source": [
    "from utils.lab_test import simple_test, massive_test, simple_test_not_found"
   ]
  },
  {
   "cell_type": "code",
   "execution_count": 15,
   "metadata": {
    "scrolled": true,
    "tags": []
   },
   "outputs": [
    {
     "name": "stdout",
     "output_type": "stream",
     "text": [
      "During the search, the following number of OPEN dublicates was encountered:  0\n"
     ]
    },
    {
     "data": {
      "image/png": "[encoded data removed]",
      "text/plain": [
       "<Figure size 960x720 with 1 Axes>"
      ]
     },
     "metadata": {},
     "output_type": "display_data"
    },
    {
     "name": "stdout",
     "output_type": "stream",
     "text": [
      "Path found! Length: 27. Search tree size: 364. Number of steps: 360. Correct: True\n",
      "CPU times: user 27 ms, sys: 3.1 ms, total: 30.1 ms\n",
      "Wall time: 28.9 ms\n"
     ]
    }
   ],
   "source": [
    "\"\"\"\n",
    "The code should execute correctly if your Dijkstra implementation is accurate.\n",
    "Experiment with the test instance number (the 2nd argument) to execute the search algorithm on various start/goal pairs.\n",
    "\"\"\"\n",
    "%time res = simple_test(dijkstra, 42, SearchTreeL)"
   ]
  },
  {
   "cell_type": "code",
   "execution_count": 16,
   "metadata": {},
   "outputs": [
    {
     "data": {
      "image/png": "[encoded data removed]",
      "text/plain": [
       "<Figure size 960x720 with 1 Axes>"
      ]
     },
     "metadata": {},
     "output_type": "display_data"
    },
    {
     "name": "stdout",
     "output_type": "stream",
     "text": [
      "Path not found! Search tree size: 265. Number of steps: 265. Correct: True\n",
      "CPU times: user 25.6 ms, sys: 1.04 ms, total: 26.7 ms\n",
      "Wall time: 25.9 ms\n"
     ]
    }
   ],
   "source": [
    "\"\"\"\n",
    "The code will execute correctly if the Dijkstra implementation properly handles cases where a path doesn't exist.\n",
    "\"\"\"\n",
    "%time res = simple_test_not_found(dijkstra, 7, SearchTreeL)"
   ]
  },
  {
   "attachments": {},
   "cell_type": "markdown",
   "metadata": {},
   "source": [
    "Now, integrate your optimized search tree implementation (`SearchTreePQD`), into Dijkstra.\n",
    "\n",
    "You should observe an improvement in performance, indicated by a reduced runtime.\n",
    "\n",
    "However, due to the lazy duplicate detection, the number of OPEN duplicates encountered during the search might be greater than zero. Consequently, the size of the final search tree might be larger (when compared to the list-based Dijkstra), as some duplicates might remain in OPEN at the search's final iteration.\n"
   ]
  },
  {
   "cell_type": "code",
   "execution_count": 17,
   "metadata": {},
   "outputs": [
    {
     "name": "stdout",
     "output_type": "stream",
     "text": [
      "During the search, the following number of OPEN dublicates was encountered:  733\n"
     ]
    },
    {
     "data": {
      "image/png": "[encoded data removed]",
      "text/plain": [
       "<Figure size 960x720 with 1 Axes>"
      ]
     },
     "metadata": {},
     "output_type": "display_data"
    },
    {
     "name": "stdout",
     "output_type": "stream",
     "text": [
      "Path found! Length: 30. Search tree size: 341. Number of steps: 295. Correct: True\n",
      "CPU times: user 20.6 ms, sys: 5.71 ms, total: 26.3 ms\n",
      "Wall time: 25.4 ms\n"
     ]
    }
   ],
   "source": [
    "\"\"\"\n",
    "The code should execute correctly if your Dijkstra implementation is accurate.\n",
    "Experiment with the test instance number (the 2nd argument) to execute the search algorithm on various start/goal pairs.\n",
    "\"\"\"\n",
    "%time res = simple_test(dijkstra, 52, SearchTreePQD)"
   ]
  },
  {
   "cell_type": "code",
   "execution_count": 18,
   "metadata": {},
   "outputs": [
    {
     "data": {
      "image/png": "[encoded data removed]",
      "text/plain": [
       "<Figure size 960x720 with 1 Axes>"
      ]
     },
     "metadata": {},
     "output_type": "display_data"
    },
    {
     "name": "stdout",
     "output_type": "stream",
     "text": [
      "Path not found! Search tree size: 265. Number of steps: 265. Correct: True\n",
      "CPU times: user 16.7 ms, sys: 1.97 ms, total: 18.7 ms\n",
      "Wall time: 17.9 ms\n"
     ]
    }
   ],
   "source": [
    "\"\"\"\n",
    "The code will execute correctly if the Dijkstra implementation properly handles cases where a path doesn't exist.\n",
    "\"\"\"\n",
    "%time res = simple_test_not_found(dijkstra, 2, SearchTreePQD)"
   ]
  },
  {
   "attachments": {},
   "cell_type": "markdown",
   "metadata": {},
   "source": [
    "The following cell runs the search algorithm on two larger instances.\n",
    "\n",
    "The default (list-based) implementation of OPEN/CLOSED will be slow."
   ]
  },
  {
   "cell_type": "code",
   "execution_count": 19,
   "metadata": {
    "tags": []
   },
   "outputs": [
    {
     "name": "stdout",
     "output_type": "stream",
     "text": [
      "During the search, the following number of OPEN dublicates was encountered:  0\n",
      "Task: #0. Path found! Length: 64. Search tree size: 1781. Number of steps: 1758. Correct: True\n",
      "During the search, the following number of OPEN dublicates was encountered:  0\n",
      "Task: #1. Path found! Length: 197. Search tree size: 7451. Number of steps: 7449. Correct: True\n",
      "CPU times: user 2.2 s, sys: 868 μs, total: 2.2 s\n",
      "Wall time: 2.2 s\n"
     ]
    }
   ],
   "source": [
    "\"\"\"\n",
    "This runs the search algorithm on two larger instances.\n",
    "The default (list-based) implementation for OPEN/CLOSED will be slow.\n",
    "\"\"\"\n",
    "%time res = dijk_stat = massive_test(dijkstra, \"data/\", 2, SearchTreeL)"
   ]
  },
  {
   "attachments": {},
   "cell_type": "markdown",
   "metadata": {},
   "source": [
    "With your efficient implementation of OPEN/CLOSED solving the same large instances should take much less time."
   ]
  },
  {
   "cell_type": "code",
   "execution_count": 20,
   "metadata": {},
   "outputs": [
    {
     "name": "stdout",
     "output_type": "stream",
     "text": [
      "During the search, the following number of OPEN dublicates was encountered:  4912\n",
      "Task: #0. Path found! Length: 64. Search tree size: 1871. Number of steps: 1759. Correct: True\n",
      "During the search, the following number of OPEN dublicates was encountered:  20428\n",
      "Task: #1. Path found! Length: 197. Search tree size: 7458. Number of steps: 7449. Correct: True\n",
      "CPU times: user 45.5 ms, sys: 1.01 ms, total: 46.5 ms\n",
      "Wall time: 45.8 ms\n"
     ]
    }
   ],
   "source": [
    "\"\"\"\n",
    "With your (non list-based) implementation of OPEN/CLOSED it should be much faster\n",
    "\"\"\"\n",
    "%time res = dijk_stat = massive_test(dijkstra, \"data/\", 2, SearchTreePQD)"
   ]
  },
  {
   "attachments": {},
   "cell_type": "markdown",
   "metadata": {},
   "source": [
    "Finally, let's run your efficient implementation of Dijkstra on the full set of\n",
    "large instances (9 instances in total). \n",
    "\n",
    "Indeed, every instance shall be solved correctly.\n",
    "\n",
    "On my modern laptop (2022 Asus, Intel iCore7, 16Gb RAM, SSD) the entire test finishes \n",
    "in under 10 seconds."
   ]
  },
  {
   "cell_type": "code",
   "execution_count": 24,
   "metadata": {
    "tags": []
   },
   "outputs": [
    {
     "name": "stdout",
     "output_type": "stream",
     "text": [
      "During the search, the following number of OPEN dublicates was encountered:  4912\n",
      "Task: #0. Path found! Length: 64. Search tree size: 1871. Number of steps: 1759. Correct: True\n",
      "During the search, the following number of OPEN dublicates was encountered:  20428\n",
      "Task: #1. Path found! Length: 197. Search tree size: 7458. Number of steps: 7449. Correct: True\n",
      "During the search, the following number of OPEN dublicates was encountered:  132124\n",
      "Task: #2. Path found! Length: 462. Search tree size: 45922. Number of steps: 45891. Correct: True\n",
      "During the search, the following number of OPEN dublicates was encountered:  127205\n",
      "Task: #3. Path found! Length: 498. Search tree size: 44485. Number of steps: 44439. Correct: True\n",
      "During the search, the following number of OPEN dublicates was encountered:  134416\n",
      "Task: #4. Path found! Length: 479. Search tree size: 47563. Number of steps: 47535. Correct: True\n",
      "During the search, the following number of OPEN dublicates was encountered:  80760\n",
      "Task: #5. Path found! Length: 402. Search tree size: 28181. Number of steps: 28174. Correct: True\n",
      "During the search, the following number of OPEN dublicates was encountered:  324026\n",
      "Task: #6. Path found! Length: 721. Search tree size: 112755. Number of steps: 112448. Correct: True\n",
      "During the search, the following number of OPEN dublicates was encountered:  226604\n",
      "Task: #7. Path found! Length: 678. Search tree size: 77617. Number of steps: 77382. Correct: True\n",
      "During the search, the following number of OPEN dublicates was encountered:  281852\n",
      "Task: #8. Path found! Length: 683. Search tree size: 95996. Number of steps: 95868. Correct: True\n",
      "CPU times: user 2.63 s, sys: 12.9 ms, total: 2.64 s\n",
      "Wall time: 2.64 s\n"
     ]
    }
   ],
   "source": [
    "\"\"\"\n",
    "Lastly, test the efficient implementation of Dijkstra on the complete set of large instances (9 in total). \n",
    "Every test should execute correctly.\n",
    "\n",
    "On my modern laptop (2022 Asus, Intel iCore7, 16Gb RAM, SSD) the entire test finishes \n",
    "in under 10 seconds.\n",
    "\"\"\"\n",
    "%time res = dijk_stat = massive_test(dijkstra, \"data/\", 9, SearchTreePQD)"
   ]
  },
  {
   "cell_type": "code",
   "execution_count": 25,
   "metadata": {},
   "outputs": [
    {
     "data": {
      "text/plain": [
       "(np.float64(51316.444444444445), np.float64(51216.11111111111))"
      ]
     },
     "execution_count": 25,
     "metadata": {},
     "output_type": "execute_result"
    }
   ],
   "source": [
    "np.array(dijk_stat[\"st_size\"]).mean(), np.array(dijk_stat[\"steps\"]).mean()"
   ]
  },
  {
   "cell_type": "code",
   "execution_count": null,
   "metadata": {},
   "outputs": [],
   "source": []
  }
 ],
 "metadata": {
  "kernelspec": {
   "display_name": "Python [conda env:base] *",
   "language": "python",
   "name": "conda-base-py"
  },
  "language_info": {
   "codemirror_mode": {
    "name": "ipython",
    "version": 3
   },
   "file_extension": ".py",
   "mimetype": "text/x-python",
   "name": "python",
   "nbconvert_exporter": "python",
   "pygments_lexer": "ipython3",
   "version": "3.13.5"
  }
 },
 "nbformat": 4,
 "nbformat_minor": 4
}
